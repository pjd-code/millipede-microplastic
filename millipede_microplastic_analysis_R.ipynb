{
  "nbformat": 4,
  "nbformat_minor": 0,
  "metadata": {
    "colab": {
      "name": "millipede-microplastic-analysis-R.ipynb",
      "provenance": [],
      "authorship_tag": "ABX9TyNW9ciu25hzWMWYnPKdCobB",
      "include_colab_link": true
    },
    "kernelspec": {
      "name": "python3",
      "display_name": "Python 3"
    },
    "language_info": {
      "name": "python"
    }
  },
  "cells": [
    {
      "cell_type": "markdown",
      "metadata": {
        "id": "view-in-github",
        "colab_type": "text"
      },
      "source": [
        "<a href=\"https://colab.research.google.com/github/pjd-code/millipede-microplastic/blob/main/millipede_microplastic_analysis_R.ipynb\" target=\"_parent\"><img src=\"https://colab.research.google.com/assets/colab-badge.svg\" alt=\"Open In Colab\"/></a>"
      ]
    },
    {
      "cell_type": "code",
      "execution_count": null,
      "metadata": {
        "id": "ENdqvZrFvtUR"
      },
      "outputs": [],
      "source": [
        "#clean up the Colab environment\n",
        "%cd /content/sample_data\n",
        "!rm *.csv\n",
        "!rm *.md\n",
        "!rm *.json\n",
        "%cd /content/sample_data"
      ]
    },
    {
      "cell_type": "code",
      "source": [
        "!git clone https://github.com/pjd-code/millipede-microplastic.git"
      ],
      "metadata": {
        "id": "jExyVzd3Qroe"
      },
      "execution_count": null,
      "outputs": []
    },
    {
      "cell_type": "code",
      "source": [
        "%load_ext rpy2.ipython"
      ],
      "metadata": {
        "id": "xb8SfsMlv2Dc"
      },
      "execution_count": null,
      "outputs": []
    },
    {
      "cell_type": "code",
      "source": [
        "%%R\n",
        "\n",
        "if (!requireNamespace(\"devtools\", quietly = TRUE)){install.packages(\"devtools\")}\n",
        "devtools::install_github(\"jbisanz/qiime2R\")"
      ],
      "metadata": {
        "id": "uX9z1ZaXv5YB"
      },
      "execution_count": null,
      "outputs": []
    },
    {
      "cell_type": "code",
      "source": [
        "%%R\n",
        "\n",
        "if (!require(\"BiocManager\", quietly = TRUE))\n",
        "    install.packages(\"BiocManager\")\n",
        "\n",
        "BiocManager::install(\"phyloseq\")\n",
        "BiocManager::install(\"jbisanz/qiime2R\")"
      ],
      "metadata": {
        "id": "NSfYR_szZmJr"
      },
      "execution_count": null,
      "outputs": []
    },
    {
      "cell_type": "code",
      "source": [
        "%cd /content/sample_data/hudson-valley-tick"
      ],
      "metadata": {
        "id": "OOcWO9hZF8wT"
      },
      "execution_count": null,
      "outputs": []
    },
    {
      "cell_type": "code",
      "source": [
        "%%R\n",
        "library(qiime2R)\n",
        "library(tidyverse)\n",
        "library(phyloseq)"
      ],
      "metadata": {
        "id": "i5z3o5-MHP1a"
      },
      "execution_count": null,
      "outputs": []
    },
    {
      "cell_type": "code",
      "source": [
        "%%R\n",
        "\n",
        "tick.obj <- qza_to_phyloseq(\"plate1-feature-table.qza\",\n",
        "                            \"plate1-rooted-tree.qza\",\n",
        "                            \"plate1-taxonomy.qza\",\n",
        "                            \"plate1-tick-metadata.txt\",\n",
        "                            tmp=\"C:/tmp\")"
      ],
      "metadata": {
        "id": "T_UbCgf_5Sgf"
      },
      "execution_count": null,
      "outputs": []
    },
    {
      "cell_type": "code",
      "source": [
        "%%R\n",
        "tick.obj"
      ],
      "metadata": {
        "id": "HmOGL8QOLO2C"
      },
      "execution_count": null,
      "outputs": []
    },
    {
      "cell_type": "code",
      "source": [
        "%%R\n",
        "(p <- plot_richness(tick.obj,  \"sex\", \"status\", measures=c(\"Observed\", \"Chao1\", \"ACE\", \"Shannon\", \"Simpson\", \"InvSimpson\")))"
      ],
      "metadata": {
        "id": "-3O2Nr3WKxyv"
      },
      "execution_count": null,
      "outputs": []
    },
    {
      "cell_type": "code",
      "source": [
        "%%R\n",
        "p <- plot_richness(tick.obj, \"status\", \"collection_source\", measures=c(\"Simpson\"))\n",
        "p + geom_boxplot(data=p$data, aes(x=status, y=value, color=NULL), alpha=0.1)"
      ],
      "metadata": {
        "id": "BVTatMVbe6XK"
      },
      "execution_count": null,
      "outputs": []
    },
    {
      "cell_type": "code",
      "source": [
        "%%R\n",
        "GP.chl <- subset_taxa(tick.obj, Phylum==\"Proteobacteria\")\n",
        "plot_tree(GP.chl, color=\"status\", shape=\"collection_source\", label.tips=\"Genus\", size=\"Abundance\")"
      ],
      "metadata": {
        "id": "UP1gjdOLkABI"
      },
      "execution_count": null,
      "outputs": []
    },
    {
      "cell_type": "code",
      "source": [
        "%%R\n",
        "GP.chl <- subset_taxa(tick.obj, Order==\"Rickettsiales\")\n",
        "plot_tree(GP.chl, color=\"status\", shape=\"collection_source\", label.tips=\"Genus\", size=\"Abundance\")"
      ],
      "metadata": {
        "id": "04V-OchVnXjJ"
      },
      "execution_count": null,
      "outputs": []
    },
    {
      "cell_type": "code",
      "source": [
        "%%R\n",
        "\n",
        "p <- plot_heatmap(tick.obj, \"NMDS\", \"bray\", \"status\", \"collection_source\")\n",
        "p"
      ],
      "metadata": {
        "id": "1xg9O2VWno6P"
      },
      "execution_count": null,
      "outputs": []
    },
    {
      "cell_type": "code",
      "source": [
        "%%R\n",
        "plot_net(tick.obj, maxdist=0.4, color=\"status\", shape=\"collection_source\")"
      ],
      "metadata": {
        "id": "n-DPpPJ4onhN"
      },
      "execution_count": null,
      "outputs": []
    },
    {
      "cell_type": "code",
      "source": [
        "%%R\n",
        "GloPa.pcoa = ordinate(tick.obj, method=\"PCoA\", distance= \"bray\")\n",
        "(p12 <- plot_ordination(tick.obj, GloPa.pcoa, \"status\", color=\"collection_source\") + \n",
        "  geom_point(size=5) + geom_path() + scale_colour_hue(guide = FALSE) )"
      ],
      "metadata": {
        "id": "wDOvZeLlqKcF"
      },
      "execution_count": null,
      "outputs": []
    },
    {
      "cell_type": "code",
      "source": [
        "%%R\n",
        "plot_scree(GloPa.pcoa, \"Scree plot for Global Patterns, UniFrac/PCoA\")"
      ],
      "metadata": {
        "id": "SgY-6SgWrZac"
      },
      "execution_count": null,
      "outputs": []
    },
    {
      "cell_type": "code",
      "source": [
        "%%R\n",
        "gpca  <- ordinate(tick.obj, \"CCA\")\n",
        "# Scree plot\n",
        "plot_scree(gpca, \"Scree Plot for Global Patterns Correspondence Analysis\")"
      ],
      "metadata": {
        "id": "EZwrcxAYsGAW"
      },
      "execution_count": null,
      "outputs": []
    },
    {
      "cell_type": "code",
      "source": [
        "%%R\n",
        "\n",
        "(p12 <- plot_ordination(tick.obj, gpca, \"status\", color=\"collection_source\") + \n",
        "  geom_line() + geom_point(size=5) )"
      ],
      "metadata": {
        "id": "JnfBahfIriQj"
      },
      "execution_count": null,
      "outputs": []
    },
    {
      "cell_type": "code",
      "source": [
        "%%R\n",
        "\n",
        "(p12 <- plot_ordination(tick.obj, gpca, \"status\", axes=c(5, 6), color=\"collection_source\") + \n",
        "  geom_line() + geom_point(size=5) )"
      ],
      "metadata": {
        "id": "3-S6SlkAs7oc"
      },
      "execution_count": null,
      "outputs": []
    }
  ]
}