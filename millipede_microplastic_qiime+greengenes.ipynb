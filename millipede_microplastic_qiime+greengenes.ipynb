{
  "cells": [
    {
      "cell_type": "markdown",
      "metadata": {
        "id": "view-in-github",
        "colab_type": "text"
      },
      "source": [
        "<a href=\"https://colab.research.google.com/github/pjd-code/millipede-microplastic/blob/main/millipede_microplastic_qiime%2Bgreengenes.ipynb\" target=\"_parent\"><img src=\"https://colab.research.google.com/assets/colab-badge.svg\" alt=\"Open In Colab\"/></a>"
      ]
    },
    {
      "cell_type": "markdown",
      "metadata": {
        "id": "UrwLl7pSBVfQ"
      },
      "source": [
        "This notebook will quickly run through the steps I used to process the raw reads. "
      ]
    },
    {
      "cell_type": "code",
      "execution_count": 1,
      "metadata": {
        "id": "EG3RnAtcBUuH",
        "colab": {
          "base_uri": "https://localhost:8080/"
        },
        "outputId": "18349cf4-b9d2-4397-db70-16be1bedbdb3"
      },
      "outputs": [
        {
          "output_type": "stream",
          "name": "stdout",
          "text": [
            "/content/sample_data\n",
            "/content/sample_data\n"
          ]
        }
      ],
      "source": [
        "#clean up the Colab environment\n",
        "%cd /content/sample_data\n",
        "!rm *.csv\n",
        "!rm *.md\n",
        "!rm *.json\n",
        "%cd /content/sample_data"
      ]
    },
    {
      "cell_type": "code",
      "execution_count": null,
      "metadata": {
        "id": "7uSxNNuUFI-S"
      },
      "outputs": [],
      "source": [
        "from google.colab import drive\n",
        "drive.mount('/content/sample_data/googledrive')"
      ]
    },
    {
      "cell_type": "code",
      "execution_count": null,
      "metadata": {
        "id": "gVyq90kNBQHF"
      },
      "outputs": [],
      "source": [
        "!git clone https://github.com/pjd-code/millipede-microplastic.git"
      ]
    },
    {
      "cell_type": "code",
      "execution_count": null,
      "metadata": {
        "id": "XH8K8u0OBfvY"
      },
      "outputs": [],
      "source": [
        "%run /content/sample_data/hudson-valley-tick/setup_qiime2.py"
      ]
    },
    {
      "cell_type": "code",
      "execution_count": 4,
      "metadata": {
        "id": "YJOBF4YDVZIl",
        "colab": {
          "base_uri": "https://localhost:8080/"
        },
        "outputId": "5e7caf08-c6dc-4272-9336-7dce445f6563"
      },
      "outputs": [
        {
          "output_type": "stream",
          "name": "stdout",
          "text": [
            "/bin\n",
            "--2022-04-22 13:28:54--  https://launch.basespace.illumina.com/CLI/latest/amd64-linux/bs\n",
            "Resolving launch.basespace.illumina.com (launch.basespace.illumina.com)... 13.225.71.115, 13.225.71.76, 13.225.71.58, ...\n",
            "Connecting to launch.basespace.illumina.com (launch.basespace.illumina.com)|13.225.71.115|:443... connected.\n",
            "HTTP request sent, awaiting response... 200 OK\n",
            "Length: 12218368 (12M) [binary/octet-stream]\n",
            "Saving to: ‘/bin/bs’\n",
            "\n",
            "/bin/bs             100%[===================>]  11.65M  --.-KB/s    in 0.1s    \n",
            "\n",
            "2022-04-22 13:28:54 (83.0 MB/s) - ‘/bin/bs’ saved [12218368/12218368]\n",
            "\n"
          ]
        }
      ],
      "source": [
        "%cd /bin\n",
        "!wget \"https://launch.basespace.illumina.com/CLI/latest/amd64-linux/bs\" -O /bin/bs\n",
        "!chmod u+x /bin/bs"
      ]
    },
    {
      "cell_type": "code",
      "execution_count": 5,
      "metadata": {
        "id": "511j9t0-ViF_",
        "colab": {
          "base_uri": "https://localhost:8080/"
        },
        "outputId": "6d6a69b6-3a6d-4b87-8f9a-e57d2ec2209d"
      },
      "outputs": [
        {
          "output_type": "stream",
          "name": "stdout",
          "text": [
            "Please go to this URL to authenticate:  https://basespace.illumina.com/oauth/device?code=hMFHJ\n",
            "Welcome, Preston Dihle\n",
            "+----------------+----------------------------------------------------+\n",
            "| Name           | Preston Dihle                                      |\n",
            "| Id             | 23726704                                           |\n",
            "| Email          | preston.dihle@gmail.com                            |\n",
            "| DateCreated    | 2021-02-05 02:03:22 +0000 UTC                      |\n",
            "| DateLastActive | 2022-04-22 13:29:12 +0000 UTC                      |\n",
            "| Host           | https://api.basespace.illumina.com                 |\n",
            "| Scopes         | READ GLOBAL, CREATE GLOBAL, BROWSE GLOBAL,         |\n",
            "|                | CREATE PROJECTS, CREATE RUNS, START APPLICATIONS,  |\n",
            "|                | MOVETOTRASH GLOBAL, WRITE GLOBAL                   |\n",
            "+----------------+----------------------------------------------------+\n"
          ]
        }
      ],
      "source": [
        "!bs auth\n",
        "!bs  whoami"
      ]
    },
    {
      "cell_type": "code",
      "execution_count": null,
      "metadata": {
        "id": "x14iw-dkbk8h"
      },
      "outputs": [],
      "source": [
        "!bs project download --id 347968211 --extension=fastq.gz -o /content/sample_data/sequence"
      ]
    },
    {
      "cell_type": "code",
      "execution_count": 8,
      "metadata": {
        "colab": {
          "base_uri": "https://localhost:8080/"
        },
        "id": "AZFan1YxdBfN",
        "outputId": "416a28e7-ccde-419b-979d-3d9da269cd25"
      },
      "outputs": [
        {
          "output_type": "stream",
          "name": "stdout",
          "text": [
            "/content/sample_data/sequence\n"
          ]
        }
      ],
      "source": [
        "%cd /content/sample_data/sequence"
      ]
    },
    {
      "cell_type": "code",
      "execution_count": null,
      "metadata": {
        "id": "aVRSpr7CWgYb"
      },
      "outputs": [],
      "source": [
        "#consolidate in one folder\n",
        "!mkdir samples \n",
        "!find . -name \"*.gz\" -exec mv \"{}\" samples \\;\n",
        "!rmdir */"
      ]
    },
    {
      "cell_type": "code",
      "source": [
        "!mv \\\n",
        "/content/sample_data/hudson-valley-tick/v4-150bp-se-ref-seqs-gg.qza \\\n",
        "/content/sample_data/hudson-valley-tick/v4-150bp-classifier-gg.qza \\\n",
        "/content/sample_data/sequence"
      ],
      "metadata": {
        "id": "XXhv34T7XJ6Z"
      },
      "execution_count": 10,
      "outputs": []
    },
    {
      "cell_type": "code",
      "execution_count": 11,
      "metadata": {
        "id": "M-KeeVLygEX8",
        "colab": {
          "base_uri": "https://localhost:8080/"
        },
        "outputId": "0f1ce19a-eb54-4b06-b1d5-b006441c886a"
      },
      "outputs": [
        {
          "output_type": "stream",
          "name": "stdout",
          "text": [
            "\u001b[32mImported /content/sample_data/sequence/samples as CasavaOneEightSingleLanePerSampleDirFmt to demux-paired-end.qza\u001b[0m\n"
          ]
        }
      ],
      "source": [
        "!qiime tools import \\\n",
        "  --type 'SampleData[PairedEndSequencesWithQuality]' \\\n",
        "  --input-path /content/sample_data/sequence/samples \\\n",
        "  --input-format CasavaOneEightSingleLanePerSampleDirFmt \\\n",
        "  --output-path demux-paired-end.qza"
      ]
    },
    {
      "cell_type": "code",
      "execution_count": 12,
      "metadata": {
        "id": "985y9HuQgEMw",
        "colab": {
          "base_uri": "https://localhost:8080/"
        },
        "outputId": "ad6c7da6-9f18-4ee4-d014-0d198bc5b364"
      },
      "outputs": [
        {
          "output_type": "stream",
          "name": "stdout",
          "text": [
            "\u001b[32mUUID\u001b[0m:        8c441c42-c8fc-49a4-8e04-c44d450ef3b7\n",
            "\u001b[32mType\u001b[0m:        SampleData[PairedEndSequencesWithQuality]\n",
            "\u001b[32mData format\u001b[0m: SingleLanePerSamplePairedEndFastqDirFmt\n"
          ]
        }
      ],
      "source": [
        "!qiime tools peek demux-paired-end.qza"
      ]
    },
    {
      "cell_type": "code",
      "execution_count": 13,
      "metadata": {
        "id": "FSYfWQYAgECS",
        "colab": {
          "base_uri": "https://localhost:8080/"
        },
        "outputId": "fc6d7481-6c00-48df-dd62-8ea4328cb8b3"
      },
      "outputs": [
        {
          "output_type": "stream",
          "name": "stdout",
          "text": [
            "\u001b[32mSaved Visualization to: demux-paired-end.qzv\u001b[0m\n"
          ]
        }
      ],
      "source": [
        "!qiime demux summarize \\\n",
        "  --i-data demux-paired-end.qza \\\n",
        "  --o-visualization demux-paired-end.qzv"
      ]
    },
    {
      "cell_type": "code",
      "execution_count": 14,
      "metadata": {
        "id": "bX1OtNH_iG92",
        "colab": {
          "base_uri": "https://localhost:8080/"
        },
        "outputId": "676f5040-2bd3-461c-af09-f296f72b5ef8"
      },
      "outputs": [
        {
          "output_type": "stream",
          "name": "stdout",
          "text": [
            "\u001b[32mSaved FeatureTable[Frequency] to: se-table-dada2.qza\u001b[0m\n",
            "\u001b[32mSaved FeatureData[Sequence] to: se-rep-seqs-dada2.qza\u001b[0m\n",
            "\u001b[32mSaved SampleData[DADA2Stats] to: se-stats-dada2.qza\u001b[0m\n"
          ]
        }
      ],
      "source": [
        "# This method denoises single-end sequences, dereplicates them, and filters chimeras.\n",
        "\n",
        "!qiime dada2 denoise-single \\\n",
        "  --i-demultiplexed-seqs demux-paired-end.qza \\\n",
        "  --p-trim-left 0 \\\n",
        "  --p-trunc-len 150 \\\n",
        "  --o-representative-sequences se-rep-seqs-dada2.qza \\\n",
        "  --o-table se-table-dada2.qza \\\n",
        "  --o-denoising-stats se-stats-dada2.qza"
      ]
    },
    {
      "cell_type": "code",
      "execution_count": null,
      "metadata": {
        "id": "oJKjebVQKxUq"
      },
      "outputs": [],
      "source": [
        "!qiime feature-table summarize \\\n",
        "  --i-table se-table-dada2.qza \\\n",
        "  --o-visualization se-rep-seqs-dada2.qzv \\\n",
        "  --m-sample-metadata-file /content/sample_data/Milli_Pooh02_220421_illumia_run[17346].txt\n",
        "\n",
        "!qiime feature-table tabulate-seqs \\\n",
        "  --i-data se-rep-seqs-dada2.qza \\\n",
        "  --o-visualization se-rep-seqs-dada2.qzv"
      ]
    },
    {
      "cell_type": "code",
      "execution_count": 16,
      "metadata": {
        "id": "Bh7pC5a-fEeZ",
        "colab": {
          "base_uri": "https://localhost:8080/"
        },
        "outputId": "bcf5eced-b3c3-4420-b88d-262be5c10b61"
      },
      "outputs": [
        {
          "output_type": "stream",
          "name": "stdout",
          "text": [
            "\u001b[32mSaved FeatureTable[Frequency] to: se-vs_clst99-table.qza\u001b[0m\n",
            "\u001b[32mSaved FeatureData[Sequence] to: se-vs_clst99-seq.qza\u001b[0m\n",
            "\u001b[32mSaved FeatureData[Sequence] to: tick_refseq99_gg.qza\u001b[0m\n"
          ]
        }
      ],
      "source": [
        "#open reference cluster using grene genes as referance\n",
        "!qiime vsearch cluster-features-open-reference \\\n",
        "  --i-sequences se-rep-seqs-dada2.qza \\\n",
        "  --i-table se-table-dada2.qza \\\n",
        "  --i-reference-sequences v4-150bp-se-ref-seqs-gg.qza \\\n",
        "  --p-perc-identity .99 \\\n",
        "  --p-threads 0 \\\n",
        "  --o-clustered-table se-vs_clst99-table.qza \\\n",
        "  --o-clustered-sequences se-vs_clst99-seq.qza \\\n",
        "  --o-new-reference-sequences tick_refseq99_gg.qza"
      ]
    },
    {
      "cell_type": "code",
      "execution_count": 22,
      "metadata": {
        "id": "5WTBFLCE2GTR",
        "colab": {
          "base_uri": "https://localhost:8080/"
        },
        "outputId": "d9868d34-09e6-4adf-db5e-283526681bea"
      },
      "outputs": [
        {
          "output_type": "stream",
          "name": "stdout",
          "text": [
            "\u001b[32mSaved Visualization to: se-vs_clst99-table.qzv\u001b[0m\n",
            "\u001b[32mSaved Visualization to: se-vs_clst99-seq.qzv\u001b[0m\n",
            "\u001b[32mSaved Visualization to: se-stats-dada2.qzv\u001b[0m\n"
          ]
        }
      ],
      "source": [
        "!qiime feature-table summarize \\\n",
        "  --i-table se-vs_clst99-table.qza \\\n",
        "  --o-visualization se-vs_clst99-table.qzv \\\n",
        "  --m-sample-metadata-file /content/sample_data/sequence/Milli_Pooh02_220421_illumia_run[17346].txt\n",
        "\n",
        "!qiime feature-table tabulate-seqs \\\n",
        "  --i-data se-vs_clst99-seq.qza \\\n",
        "  --o-visualization se-vs_clst99-seq.qzv\n",
        "\n",
        "!qiime metadata tabulate \\\n",
        "  --m-input-file se-stats-dada2.qza \\\n",
        "  --o-visualization se-stats-dada2.qzv"
      ]
    },
    {
      "cell_type": "code",
      "execution_count": null,
      "metadata": {
        "id": "Er52-e6ENOaH"
      },
      "outputs": [],
      "source": [
        "!qiime phylogeny align-to-tree-mafft-fasttree \\\n",
        "  --i-sequences se-vs_clst99-seq.qza \\\n",
        "  --o-alignment aligned-rep-seqs.qza \\\n",
        "  --o-masked-alignment masked-aligned-rep-seqs.qza \\\n",
        "  --o-tree unrooted-tree.qza \\\n",
        "  --o-rooted-tree rooted-tree.qza"
      ]
    },
    {
      "cell_type": "code",
      "execution_count": null,
      "metadata": {
        "id": "UddjEFftjNpr"
      },
      "outputs": [],
      "source": [
        "!qiime feature-classifier classify-sklearn \\\n",
        "  --i-classifier v4-150bp-classifier-gg.qza \\\n",
        "  --i-reads se-vs_clst99-seq.qza \\\n",
        "  --o-classification taxonomy.qza"
      ]
    },
    {
      "cell_type": "code",
      "execution_count": 29,
      "metadata": {
        "id": "kX8Je2DjGr4V",
        "colab": {
          "base_uri": "https://localhost:8080/"
        },
        "outputId": "0f19be5e-00f7-4393-909c-45a897f72fe1"
      },
      "outputs": [
        {
          "output_type": "stream",
          "name": "stdout",
          "text": [
            "\u001b[32mSaved Visualization to: taxa-bar-plots.qzv\u001b[0m\n"
          ]
        }
      ],
      "source": [
        "!qiime taxa barplot \\\n",
        "  --i-table se-vs_clst99-table.qza \\\n",
        "  --i-taxonomy taxonomy.qza \\\n",
        "  --m-metadata-file /content/sample_data/sequence/Milli_Pooh02_220421_illumia_run[17346].txt \\\n",
        "  --o-visualization taxa-bar-plots.qzv"
      ]
    },
    {
      "cell_type": "code",
      "execution_count": 30,
      "metadata": {
        "id": "LKzE6TtqNOL-",
        "colab": {
          "base_uri": "https://localhost:8080/"
        },
        "outputId": "f78e8666-8fc7-4280-eb98-4ae3b52fec00"
      },
      "outputs": [
        {
          "output_type": "stream",
          "name": "stdout",
          "text": [
            "\u001b[32mSaved FeatureTable[Frequency] to: core-metrics-results3/rarefied_table.qza\u001b[0m\n",
            "\u001b[32mSaved SampleData[AlphaDiversity] to: core-metrics-results3/faith_pd_vector.qza\u001b[0m\n",
            "\u001b[32mSaved SampleData[AlphaDiversity] to: core-metrics-results3/observed_features_vector.qza\u001b[0m\n",
            "\u001b[32mSaved SampleData[AlphaDiversity] to: core-metrics-results3/shannon_vector.qza\u001b[0m\n",
            "\u001b[32mSaved SampleData[AlphaDiversity] to: core-metrics-results3/evenness_vector.qza\u001b[0m\n",
            "\u001b[32mSaved DistanceMatrix to: core-metrics-results3/unweighted_unifrac_distance_matrix.qza\u001b[0m\n",
            "\u001b[32mSaved DistanceMatrix to: core-metrics-results3/weighted_unifrac_distance_matrix.qza\u001b[0m\n",
            "\u001b[32mSaved DistanceMatrix to: core-metrics-results3/jaccard_distance_matrix.qza\u001b[0m\n",
            "\u001b[32mSaved DistanceMatrix to: core-metrics-results3/bray_curtis_distance_matrix.qza\u001b[0m\n",
            "\u001b[32mSaved PCoAResults to: core-metrics-results3/unweighted_unifrac_pcoa_results.qza\u001b[0m\n",
            "\u001b[32mSaved PCoAResults to: core-metrics-results3/weighted_unifrac_pcoa_results.qza\u001b[0m\n",
            "\u001b[32mSaved PCoAResults to: core-metrics-results3/jaccard_pcoa_results.qza\u001b[0m\n",
            "\u001b[32mSaved PCoAResults to: core-metrics-results3/bray_curtis_pcoa_results.qza\u001b[0m\n",
            "\u001b[32mSaved Visualization to: core-metrics-results3/unweighted_unifrac_emperor.qzv\u001b[0m\n",
            "\u001b[32mSaved Visualization to: core-metrics-results3/weighted_unifrac_emperor.qzv\u001b[0m\n",
            "\u001b[32mSaved Visualization to: core-metrics-results3/jaccard_emperor.qzv\u001b[0m\n",
            "\u001b[32mSaved Visualization to: core-metrics-results3/bray_curtis_emperor.qzv\u001b[0m\n"
          ]
        }
      ],
      "source": [
        "!qiime diversity core-metrics-phylogenetic \\\n",
        "  --i-phylogeny rooted-tree.qza \\\n",
        "  --i-table se-vs_clst99-table.qza \\\n",
        "  --p-sampling-depth 5800 \\\n",
        "  --m-metadata-file /content/sample_data/sequence/Milli_Pooh02_220421_illumia_run[17346].txt \\\n",
        "  --output-dir core-metrics-results3 "
      ]
    },
    {
      "cell_type": "code",
      "execution_count": null,
      "metadata": {
        "id": "qq_NSOM5NNtv"
      },
      "outputs": [],
      "source": [
        "!qiime diversity alpha-group-significance \\\n",
        "  --i-alpha-diversity /content/sample_data/sequence/core-metrics-results2/faith_pd_vector.qza \\\n",
        "  --m-metadata-file /content/sample_data/sequence/Milli_Pooh02_220421_illumia_run[17346].txt \\\n",
        "  --o-visualization core-metrics-results/faith-pd-group-significance.qzv\n",
        "\n",
        "!qiime diversity alpha-group-significance \\\n",
        "  --i-alpha-diversity /content/sample_data/sequence/core-metrics-results2/evenness_vector.qza \\\n",
        "  --m-metadata-file /content/sample_data/sequence/Milli_Pooh02_220421_illumia_run[17346].txt \\\n",
        "  --o-visualization core-metrics-results/evenness-group-significance.qzv"
      ]
    },
    {
      "cell_type": "code",
      "execution_count": null,
      "metadata": {
        "id": "l7SIRel1PC0k"
      },
      "outputs": [],
      "source": [
        "!qiime diversity beta-group-significance \\\n",
        "  --i-distance-matrix core-metrics-results/unweighted_unifrac_distance_matrix.qza \\\n",
        "  --m-metadata-file /content/sample_data/sequence/Milli_Pooh02_220421_illumia_run[17346].txt \\\n",
        "  --m-metadata-column category \\\n",
        "  --o-visualization core-metrics-results/unweighted-unifrac-group-significance.qzv \\\n",
        "  --p-pairwise"
      ]
    },
    {
      "cell_type": "code",
      "source": [
        "!conda install -c conda-forge deicode"
      ],
      "metadata": {
        "id": "898xEy7StlQF",
        "colab": {
          "base_uri": "https://localhost:8080/"
        },
        "outputId": "9cd3c9d0-07b6-467e-98a9-70dbe3a8093e"
      },
      "execution_count": 31,
      "outputs": [
        {
          "output_type": "stream",
          "name": "stdout",
          "text": [
            "Collecting package metadata (current_repodata.json): - \b\b\\ \b\b| \b\b/ \b\b- \b\b\\ \b\b| \b\b/ \b\b- \b\b\\ \b\b| \b\b/ \b\b- \b\b\\ \b\b| \b\b/ \b\b- \b\b\\ \b\b| \b\b/ \b\b- \b\b\\ \b\b| \b\b/ \b\b- \b\b\\ \b\b| \b\b/ \b\b- \b\b\\ \b\b| \b\b/ \b\b- \b\b\\ \b\b| \b\b/ \b\b- \b\b\\ \b\b| \b\b/ \b\b- \b\b\\ \b\b| \b\b/ \b\b- \b\b\\ \b\b| \b\b/ \b\b- \b\b\\ \b\b| \b\b/ \b\b- \b\b\\ \b\b| \b\b/ \b\b- \b\b\\ \b\b| \b\b/ \b\b- \b\b\\ \b\b| \b\b/ \b\b- \b\b\\ \b\b| \b\b/ \b\b- \b\b\\ \b\b| \b\b/ \b\b- \b\b\\ \b\b| \b\b/ \b\b- \b\b\\ \b\b| \b\b/ \b\b- \b\b\\ \b\b| \b\b/ \b\b- \b\b\\ \b\b| \b\b/ \b\b- \b\b\\ \b\b| \b\b/ \b\b- \b\b\\ \b\b| \b\b/ \b\b- \b\b\\ \b\b| \b\b/ \b\b- \b\b\\ \b\b| \b\b/ \b\b- \b\b\\ \b\b| \b\b/ \b\b- \b\b\\ \b\b| \b\b/ \b\b- \b\b\\ \b\b| \b\b/ \b\b- \b\b\\ \b\b| \b\b/ \b\b- \b\b\\ \b\b| \b\b/ \b\b- \b\b\\ \b\b| \b\b/ \b\b- \b\b\\ \b\b| \b\b/ \b\b- \b\b\\ \b\b| \b\b/ \b\bdone\n",
            "Solving environment: \\ \b\b| \b\b/ \b\b- \b\b\\ \b\b| \b\b/ \b\b- \b\b\\ \b\b| \b\b/ \b\b- \b\b\\ \b\b| \b\b/ \b\b- \b\b\\ \b\b| \b\b/ \b\b- \b\b\\ \b\b| \b\b/ \b\b- \b\b\\ \b\b| \b\b/ \b\b- \b\b\\ \b\b| \b\b/ \b\b- \b\b\\ \b\b| \b\b/ \b\b- \b\b\\ \b\b| \b\b/ \b\b- \b\b\\ \b\b| \b\b/ \b\b- \b\b\\ \b\b| \b\b/ \b\b- \b\b\\ \b\b| \b\b/ \b\b- \b\b\\ \b\b| \b\b/ \b\b- \b\b\\ \b\b| \b\b/ \b\b- \b\b\\ \b\b| \b\b/ \b\b- \b\b\\ \b\b| \b\b/ \b\b- \b\b\\ \b\b| \b\b/ \b\b- \b\b\\ \b\b| \b\b/ \b\b- \b\b\\ \b\b| \b\b/ \b\b- \b\b\\ \b\b| \b\b/ \b\b- \b\b\\ \b\b| \b\b/ \b\b- \b\b\\ \b\b| \b\b/ \b\b- \b\b\\ \b\b| \b\b/ \b\b- \b\b\\ \b\b| \b\b/ \b\b- \b\b\\ \b\b| \b\b/ \b\b- \b\b\\ \b\b| \b\b/ \b\b- \b\b\\ \b\b| \b\b/ \b\b- \b\b\\ \b\b| \b\b/ \b\b- \b\b\\ \b\b| \b\b/ \b\b- \b\b\\ \b\b| \b\b/ \b\b- \b\b\\ \b\b| \b\b/ \b\b- \b\b\\ \b\b| \b\b/ \b\b- \b\b\\ \b\b| \b\b/ \b\b- \b\b\\ \b\b| \b\b/ \b\b- \b\b\\ \b\b| \b\b/ \b\b- \b\b\\ \b\b| \b\b/ \b\b- \b\b\\ \b\b| \b\b/ \b\b- \b\b\\ \b\b| \b\b/ \b\b- \b\b\\ \b\b| \b\b/ \b\b- \b\b\\ \b\b| \b\b/ \b\b- \b\b\\ \b\b| \b\b/ \b\b- \b\b\\ \b\b| \b\b/ \b\b- \b\b\\ \b\b| \b\b/ \b\b- \b\b\\ \b\b| \b\b/ \b\b- \b\b\\ \b\b| \b\b/ \b\b- \b\b\\ \b\b| \b\b/ \b\b- \b\b\\ \b\b| \b\b/ \b\b- \b\b\\ \b\b| \b\b/ \b\b- \b\b\\ \b\b| \b\b/ \b\b- \b\b\\ \b\b| \b\b/ \b\b- \b\b\\ \b\b| \b\b/ \b\b- \b\b\\ \b\b| \b\b/ \b\b- \b\b\\ \b\b| \b\b/ \b\b- \b\b\\ \b\b| \b\b/ \b\b- \b\b\\ \b\b| \b\b/ \b\b- \b\b\\ \b\b| \b\b/ \b\b- \b\b\\ \b\b| \b\b/ \b\b- \b\b\\ \b\b| \b\b/ \b\b- \b\b\\ \b\b| \b\b/ \b\b- \b\b\\ \b\b| \b\b/ \b\b- \b\b\\ \b\b| \b\b/ \b\b- \b\b\\ \b\b| \b\b/ \b\b- \b\b\\ \b\bdone\n",
            "\n",
            "## Package Plan ##\n",
            "\n",
            "  environment location: /usr/local\n",
            "\n",
            "  added / updated specs:\n",
            "    - deicode\n",
            "\n",
            "\n",
            "The following packages will be downloaded:\n",
            "\n",
            "    package                    |            build\n",
            "    ---------------------------|-----------------\n",
            "    ca-certificates-2021.10.8  |       ha878542_0         139 KB  conda-forge\n",
            "    certifi-2021.10.8          |   py38h578d9bd_2         145 KB  conda-forge\n",
            "    deicode-0.2.4              |   py38h32f6830_0          30 KB  conda-forge\n",
            "    openssl-1.1.1n             |       h166bdaf_0         2.1 MB  conda-forge\n",
            "    ------------------------------------------------------------\n",
            "                                           Total:         2.4 MB\n",
            "\n",
            "The following NEW packages will be INSTALLED:\n",
            "\n",
            "  deicode            conda-forge/linux-64::deicode-0.2.4-py38h32f6830_0\n",
            "\n",
            "The following packages will be UPDATED:\n",
            "\n",
            "  ca-certificates                      2021.5.30-ha878542_0 --> 2021.10.8-ha878542_0\n",
            "  certifi                          2021.5.30-py38h578d9bd_0 --> 2021.10.8-py38h578d9bd_2\n",
            "  openssl                                 1.1.1l-h7f98852_0 --> 1.1.1n-h166bdaf_0\n",
            "\n",
            "\n",
            "Proceed ([y]/n)? y\n",
            "\n",
            "\n",
            "Downloading and Extracting Packages\n",
            "openssl-1.1.1n       | 2.1 MB    | : 100% 1.0/1 [00:00<00:00,  2.23it/s]              \n",
            "deicode-0.2.4        | 30 KB     | : 100% 1.0/1 [00:00<00:00,  2.30it/s]               \n",
            "ca-certificates-2021 | 139 KB    | : 100% 1.0/1 [00:00<00:00, 15.11it/s]\n",
            "certifi-2021.10.8    | 145 KB    | : 100% 1.0/1 [00:00<00:00, 13.87it/s]\n",
            "Preparing transaction: / \b\bdone\n",
            "Verifying transaction: \\ \b\bdone\n",
            "Executing transaction: / \b\bdone\n"
          ]
        }
      ]
    },
    {
      "cell_type": "code",
      "source": [
        "!qiime deicode rpca \\\n",
        "  --i-table se-vs_clst99-table.qza \\\n",
        "  --p-min-feature-count 10 \\\n",
        "  --p-min-sample-count 500 \\\n",
        "  --o-biplot ordination.qza \\\n",
        "  --o-distance-matrix distance.qza\n",
        "\n",
        "!qiime emperor biplot \\\n",
        "  --i-biplot ordination.qza \\\n",
        "  --m-sample-metadata-file /content/sample_data/sequence/Milli_Pooh02_220421_illumia_run[17346].txt \\\n",
        "  --m-feature-metadata-file /content/sample_data/sequence/taxonomy.qza \\\n",
        "  --o-visualization biplot.qzv \\\n",
        "  --p-number-of-features 10\n",
        "\n",
        "!qiime diversity beta-group-significance \\\n",
        "  --i-distance-matrix distance.qza \\\n",
        "  --m-metadata-file /content/sample_data/sequence/Milli_Pooh02_220421_illumia_run[17346].txt \\\n",
        "  --m-metadata-column category \\\n",
        "  --p-method permanova \\\n",
        "  --o-visualization status_significance.qzv"
      ],
      "metadata": {
        "id": "iQaiG76htE3w"
      },
      "execution_count": null,
      "outputs": []
    }
  ],
  "metadata": {
    "colab": {
      "name": "millipede-microplastic-qiime+greengenes",
      "provenance": [],
      "include_colab_link": true
    },
    "kernelspec": {
      "display_name": "Python 3",
      "name": "python3"
    },
    "language_info": {
      "name": "python"
    }
  },
  "nbformat": 4,
  "nbformat_minor": 0
}