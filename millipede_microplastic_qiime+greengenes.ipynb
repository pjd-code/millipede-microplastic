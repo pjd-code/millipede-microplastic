{
  "cells": [
    {
      "cell_type": "markdown",
      "metadata": {
        "id": "view-in-github",
        "colab_type": "text"
      },
      "source": [
        "<a href=\"https://colab.research.google.com/github/pjd-code/millipede-microplastic/blob/main/millipede_microplastic_qiime%2Bgreengenes.ipynb\" target=\"_parent\"><img src=\"https://colab.research.google.com/assets/colab-badge.svg\" alt=\"Open In Colab\"/></a>"
      ]
    },
    {
      "cell_type": "markdown",
      "metadata": {
        "id": "UrwLl7pSBVfQ"
      },
      "source": [
        "This notebook will quickly run through the steps I used to process the raw reads. "
      ]
    },
    {
      "cell_type": "code",
      "execution_count": null,
      "metadata": {
        "id": "EG3RnAtcBUuH"
      },
      "outputs": [],
      "source": [
        "#clean up the Colab environment\n",
        "%cd /content/sample_data\n",
        "!rm *.csv\n",
        "!rm *.md\n",
        "!rm *.json\n",
        "%cd /content/sample_data"
      ]
    },
    {
      "cell_type": "code",
      "execution_count": null,
      "metadata": {
        "id": "7uSxNNuUFI-S"
      },
      "outputs": [],
      "source": [
        "from google.colab import drive\n",
        "drive.mount('/content/sample_data/googledrive')"
      ]
    },
    {
      "cell_type": "code",
      "execution_count": null,
      "metadata": {
        "id": "gVyq90kNBQHF"
      },
      "outputs": [],
      "source": [
        "!git clone https://github.com/pjd-code/millipede-microplastic.git"
      ]
    },
    {
      "cell_type": "code",
      "execution_count": null,
      "metadata": {
        "id": "XH8K8u0OBfvY"
      },
      "outputs": [],
      "source": [
        "%run /content/sample_data/hudson-valley-tick/setup_qiime2.py"
      ]
    },
    {
      "cell_type": "code",
      "execution_count": null,
      "metadata": {
        "id": "YJOBF4YDVZIl"
      },
      "outputs": [],
      "source": [
        "%cd /bin\n",
        "!wget \"https://launch.basespace.illumina.com/CLI/latest/amd64-linux/bs\" -O /bin/bs\n",
        "!chmod u+x /bin/bs"
      ]
    },
    {
      "cell_type": "code",
      "execution_count": null,
      "metadata": {
        "id": "511j9t0-ViF_"
      },
      "outputs": [],
      "source": [
        "!bs auth\n",
        "!bs  whoami"
      ]
    },
    {
      "cell_type": "code",
      "execution_count": null,
      "metadata": {
        "id": "x14iw-dkbk8h"
      },
      "outputs": [],
      "source": [
        "!bs project download --id 347968211 --extension=fastq.gz -o /content/sample_data/sequence"
      ]
    },
    {
      "cell_type": "code",
      "execution_count": null,
      "metadata": {
        "id": "AZFan1YxdBfN"
      },
      "outputs": [],
      "source": [
        "%cd /content/sample_data/sequence"
      ]
    },
    {
      "cell_type": "code",
      "execution_count": null,
      "metadata": {
        "id": "aVRSpr7CWgYb"
      },
      "outputs": [],
      "source": [
        "#consolidate in one folder\n",
        "!mkdir samples \n",
        "!find . -name \"*.gz\" -exec mv \"{}\" samples \\;\n",
        "!rmdir */"
      ]
    },
    {
      "cell_type": "code",
      "source": [
        "!mv \\\n",
        "/content/sample_data/hudson-valley-tick/v4-150bp-se-ref-seqs-gg.qza \\\n",
        "/content/sample_data/hudson-valley-tick/v4-150bp-classifier-gg.qza \\\n",
        "/content/sample_data/sequence"
      ],
      "metadata": {
        "id": "XXhv34T7XJ6Z"
      },
      "execution_count": null,
      "outputs": []
    },
    {
      "cell_type": "code",
      "execution_count": null,
      "metadata": {
        "id": "M-KeeVLygEX8"
      },
      "outputs": [],
      "source": [
        "!qiime tools import \\\n",
        "  --type 'SampleData[PairedEndSequencesWithQuality]' \\\n",
        "  --input-path /content/sample_data/sequence/samples \\\n",
        "  --input-format CasavaOneEightSingleLanePerSampleDirFmt \\\n",
        "  --output-path demux-paired-end.qza"
      ]
    },
    {
      "cell_type": "code",
      "execution_count": null,
      "metadata": {
        "id": "985y9HuQgEMw"
      },
      "outputs": [],
      "source": [
        "!qiime tools peek demux-paired-end.qza"
      ]
    },
    {
      "cell_type": "code",
      "execution_count": null,
      "metadata": {
        "id": "FSYfWQYAgECS"
      },
      "outputs": [],
      "source": [
        "!qiime demux summarize \\\n",
        "  --i-data demux-paired-end.qza \\\n",
        "  --o-visualization demux-paired-end.qzv"
      ]
    },
    {
      "cell_type": "code",
      "execution_count": null,
      "metadata": {
        "id": "bX1OtNH_iG92"
      },
      "outputs": [],
      "source": [
        "# This method denoises single-end sequences, dereplicates them, and filters chimeras.\n",
        "\n",
        "!qiime dada2 denoise-single \\\n",
        "  --i-demultiplexed-seqs demux-paired-end.qza \\\n",
        "  --p-trim-left 0 \\\n",
        "  --p-trunc-len 150 \\\n",
        "  --o-representative-sequences se-rep-seqs-dada2.qza \\\n",
        "  --o-table se-table-dada2.qza \\\n",
        "  --o-denoising-stats se-stats-dada2.qza"
      ]
    },
    {
      "cell_type": "code",
      "execution_count": null,
      "metadata": {
        "id": "oJKjebVQKxUq"
      },
      "outputs": [],
      "source": [
        "!qiime feature-table summarize \\\n",
        "  --i-table se-table-dada2.qza \\\n",
        "  --o-visualization se-rep-seqs-dada2.qzv \\\n",
        "  --m-sample-metadata-file /content/sample_data/Milli_Pooh02_220421_illumia_run[17346].txt\n",
        "\n",
        "!qiime feature-table tabulate-seqs \\\n",
        "  --i-data se-rep-seqs-dada2.qza \\\n",
        "  --o-visualization se-rep-seqs-dada2.qzv"
      ]
    },
    {
      "cell_type": "code",
      "execution_count": null,
      "metadata": {
        "id": "Bh7pC5a-fEeZ"
      },
      "outputs": [],
      "source": [
        "#open reference cluster using grene genes as referance\n",
        "!qiime vsearch cluster-features-open-reference \\\n",
        "  --i-sequences se-rep-seqs-dada2.qza \\\n",
        "  --i-table se-table-dada2.qza \\\n",
        "  --i-reference-sequences v4-150bp-se-ref-seqs-gg.qza \\\n",
        "  --p-perc-identity .99 \\\n",
        "  --p-threads 0 \\\n",
        "  --o-clustered-table se-vs_clst99-table.qza \\\n",
        "  --o-clustered-sequences se-vs_clst99-seq.qza \\\n",
        "  --o-new-reference-sequences tick_refseq99_gg.qza"
      ]
    },
    {
      "cell_type": "code",
      "execution_count": null,
      "metadata": {
        "id": "5WTBFLCE2GTR"
      },
      "outputs": [],
      "source": [
        "!qiime feature-table summarize \\\n",
        "  --i-table se-vs_clst99-table.qza \\\n",
        "  --o-visualization se-vs_clst99-table.qzv \\\n",
        "  --m-sample-metadata-file /content/sample_data/sequence/Milli_Pooh02_220421_illumia_run[17346].txt\n",
        "\n",
        "!qiime feature-table tabulate-seqs \\\n",
        "  --i-data se-vs_clst99-seq.qza \\\n",
        "  --o-visualization se-vs_clst99-seq.qzv\n",
        "\n",
        "!qiime metadata tabulate \\\n",
        "  --m-input-file se-stats-dada2.qza \\\n",
        "  --o-visualization se-stats-dada2.qzv"
      ]
    },
    {
      "cell_type": "code",
      "execution_count": null,
      "metadata": {
        "id": "Er52-e6ENOaH"
      },
      "outputs": [],
      "source": [
        "!qiime phylogeny align-to-tree-mafft-fasttree \\\n",
        "  --i-sequences se-vs_clst99-seq.qza \\\n",
        "  --o-alignment aligned-rep-seqs.qza \\\n",
        "  --o-masked-alignment masked-aligned-rep-seqs.qza \\\n",
        "  --o-tree unrooted-tree.qza \\\n",
        "  --o-rooted-tree rooted-tree.qza"
      ]
    },
    {
      "cell_type": "code",
      "execution_count": null,
      "metadata": {
        "id": "UddjEFftjNpr"
      },
      "outputs": [],
      "source": [
        "!qiime feature-classifier classify-sklearn \\\n",
        "  --i-classifier v4-150bp-classifier-gg.qza \\\n",
        "  --i-reads se-vs_clst99-seq.qza \\\n",
        "  --o-classification taxonomy.qza"
      ]
    },
    {
      "cell_type": "code",
      "execution_count": null,
      "metadata": {
        "id": "kX8Je2DjGr4V"
      },
      "outputs": [],
      "source": [
        "!qiime taxa barplot \\\n",
        "  --i-table se-vs_clst99-table.qza \\\n",
        "  --i-taxonomy taxonomy.qza \\\n",
        "  --m-metadata-file /content/sample_data/sequence/Milli_Pooh02_220421_illumia_run[17346].txt \\\n",
        "  --o-visualization taxa-bar-plots.qzv"
      ]
    },
    {
      "cell_type": "code",
      "execution_count": null,
      "metadata": {
        "id": "LKzE6TtqNOL-"
      },
      "outputs": [],
      "source": [
        "!qiime diversity core-metrics-phylogenetic \\\n",
        "  --i-phylogeny rooted-tree.qza \\\n",
        "  --i-table se-vs_clst99-table.qza \\\n",
        "  --p-sampling-depth 5800 \\\n",
        "  --m-metadata-file /content/sample_data/sequence/Milli_Pooh02_220421_illumia_run[17346].txt \\\n",
        "  --output-dir core-metrics-results3 "
      ]
    },
    {
      "cell_type": "code",
      "execution_count": null,
      "metadata": {
        "id": "qq_NSOM5NNtv"
      },
      "outputs": [],
      "source": [
        "!qiime diversity alpha-group-significance \\\n",
        "  --i-alpha-diversity /content/sample_data/sequence/core-metrics-results2/faith_pd_vector.qza \\\n",
        "  --m-metadata-file /content/sample_data/sequence/Milli_Pooh02_220421_illumia_run[17346].txt \\\n",
        "  --o-visualization core-metrics-results/faith-pd-group-significance.qzv\n",
        "\n",
        "!qiime diversity alpha-group-significance \\\n",
        "  --i-alpha-diversity /content/sample_data/sequence/core-metrics-results2/evenness_vector.qza \\\n",
        "  --m-metadata-file /content/sample_data/sequence/Milli_Pooh02_220421_illumia_run[17346].txt \\\n",
        "  --o-visualization core-metrics-results/evenness-group-significance.qzv"
      ]
    },
    {
      "cell_type": "code",
      "execution_count": null,
      "metadata": {
        "id": "l7SIRel1PC0k"
      },
      "outputs": [],
      "source": [
        "!qiime diversity beta-group-significance \\\n",
        "  --i-distance-matrix core-metrics-results/unweighted_unifrac_distance_matrix.qza \\\n",
        "  --m-metadata-file /content/sample_data/sequence/Milli_Pooh02_220421_illumia_run[17346].txt \\\n",
        "  --m-metadata-column category \\\n",
        "  --o-visualization core-metrics-results/unweighted-unifrac-group-significance.qzv \\\n",
        "  --p-pairwise"
      ]
    },
    {
      "cell_type": "code",
      "source": [
        "!conda install -c conda-forge deicode"
      ],
      "metadata": {
        "id": "898xEy7StlQF"
      },
      "execution_count": null,
      "outputs": []
    },
    {
      "cell_type": "code",
      "source": [
        "!qiime deicode rpca \\\n",
        "  --i-table se-vs_clst99-table.qza \\\n",
        "  --p-min-feature-count 10 \\\n",
        "  --p-min-sample-count 500 \\\n",
        "  --o-biplot ordination.qza \\\n",
        "  --o-distance-matrix distance.qza\n",
        "\n",
        "!qiime emperor biplot \\\n",
        "  --i-biplot ordination.qza \\\n",
        "  --m-sample-metadata-file /content/sample_data/sequence/Milli_Pooh02_220421_illumia_run[17346].txt \\\n",
        "  --m-feature-metadata-file /content/sample_data/sequence/taxonomy.qza \\\n",
        "  --o-visualization biplot.qzv \\\n",
        "  --p-number-of-features 10\n",
        "\n",
        "!qiime diversity beta-group-significance \\\n",
        "  --i-distance-matrix distance.qza \\\n",
        "  --m-metadata-file /content/sample_data/sequence/Milli_Pooh02_220421_illumia_run[17346].txt \\\n",
        "  --m-metadata-column category \\\n",
        "  --p-method permanova \\\n",
        "  --o-visualization status_significance.qzv"
      ],
      "metadata": {
        "id": "iQaiG76htE3w"
      },
      "execution_count": null,
      "outputs": []
    }
  ],
  "metadata": {
    "colab": {
      "name": "millipede-microplastic-qiime+greengenes",
      "provenance": [],
      "include_colab_link": true
    },
    "kernelspec": {
      "display_name": "Python 3",
      "name": "python3"
    },
    "language_info": {
      "name": "python"
    }
  },
  "nbformat": 4,
  "nbformat_minor": 0
}